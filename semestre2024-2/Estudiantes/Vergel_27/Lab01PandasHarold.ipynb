{
  "cells": [
    {
      "cell_type": "markdown",
      "metadata": {
        "id": "nB0enqgBgefd"
      },
      "source": [
        "<a href=\"https://colab.research.google.com/github/CienciaDatosUdea/002_EstudiantesAprendizajeEstadistico/blob/main/semestre2024-2/Laboratorios/Laboratorio_01_pandas.ipynb\" target=\"_parent\"><img src=\"https://colab.research.google.com/assets/colab-badge.svg\" alt=\"Open In Colab\"/></a>\n"
      ]
    },
    {
      "cell_type": "markdown",
      "metadata": {
        "id": "DbvYENaR1uMR"
      },
      "source": [
        "\n",
        "\n",
        "# Laboratorio 1.0:\n",
        "\n",
        "## Series de tiempo\n",
        "\n",
        "El siguiente [dataset](https://raw.githubusercontent.com/hernansalinas/Curso_aprendizaje_estadistico/main/datasets/Pandas_data_historical_dataEURUSD.csv) contiene información del precio del eur/usd  desde el 05/07/2022/ hasta el 12/05/2023 con periodicidad de una hora. El data frame contiene el precio de apertura, cierrre, valor más bajo cotizado, valor más alto cotizado, volumen, spread etc. Para este dataset, realizar lo siguiente:\n",
        "\n",
        "\n",
        "1. Leer el dataset desde el github.\n"
      ]
    },
    {
      "cell_type": "code",
      "execution_count": 1,
      "metadata": {},
      "outputs": [
        {
          "data": {
            "text/html": [
              "<div>\n",
              "<style scoped>\n",
              "    .dataframe tbody tr th:only-of-type {\n",
              "        vertical-align: middle;\n",
              "    }\n",
              "\n",
              "    .dataframe tbody tr th {\n",
              "        vertical-align: top;\n",
              "    }\n",
              "\n",
              "    .dataframe thead th {\n",
              "        text-align: right;\n",
              "    }\n",
              "</style>\n",
              "<table border=\"1\" class=\"dataframe\">\n",
              "  <thead>\n",
              "    <tr style=\"text-align: right;\">\n",
              "      <th></th>\n",
              "      <th>Unnamed: 0</th>\n",
              "      <th>time</th>\n",
              "      <th>open</th>\n",
              "      <th>high</th>\n",
              "      <th>low</th>\n",
              "      <th>close</th>\n",
              "      <th>tick_volume</th>\n",
              "      <th>spread</th>\n",
              "      <th>real_volume</th>\n",
              "      <th>MeanCloseOpen</th>\n",
              "      <th>Diff_Close</th>\n",
              "      <th>Diff_Open</th>\n",
              "      <th>Diff_MeanCloseOpen</th>\n",
              "    </tr>\n",
              "  </thead>\n",
              "  <tbody>\n",
              "    <tr>\n",
              "      <th>0</th>\n",
              "      <td>0</td>\n",
              "      <td>2022-07-25 13:00:00</td>\n",
              "      <td>1.02427</td>\n",
              "      <td>1.02430</td>\n",
              "      <td>1.02145</td>\n",
              "      <td>1.02345</td>\n",
              "      <td>3927</td>\n",
              "      <td>8</td>\n",
              "      <td>0</td>\n",
              "      <td>1.023860</td>\n",
              "      <td>-0.00046</td>\n",
              "      <td>-0.00082</td>\n",
              "      <td>-0.000640</td>\n",
              "    </tr>\n",
              "    <tr>\n",
              "      <th>1</th>\n",
              "      <td>1</td>\n",
              "      <td>2022-07-25 14:00:00</td>\n",
              "      <td>1.02345</td>\n",
              "      <td>1.02578</td>\n",
              "      <td>1.02288</td>\n",
              "      <td>1.02299</td>\n",
              "      <td>5344</td>\n",
              "      <td>8</td>\n",
              "      <td>0</td>\n",
              "      <td>1.023220</td>\n",
              "      <td>-0.00046</td>\n",
              "      <td>-0.00082</td>\n",
              "      <td>-0.000640</td>\n",
              "    </tr>\n",
              "    <tr>\n",
              "      <th>2</th>\n",
              "      <td>2</td>\n",
              "      <td>2022-07-25 15:00:00</td>\n",
              "      <td>1.02303</td>\n",
              "      <td>1.02476</td>\n",
              "      <td>1.02230</td>\n",
              "      <td>1.02457</td>\n",
              "      <td>5524</td>\n",
              "      <td>8</td>\n",
              "      <td>0</td>\n",
              "      <td>1.023800</td>\n",
              "      <td>0.00158</td>\n",
              "      <td>-0.00042</td>\n",
              "      <td>0.000580</td>\n",
              "    </tr>\n",
              "    <tr>\n",
              "      <th>3</th>\n",
              "      <td>3</td>\n",
              "      <td>2022-07-25 16:00:00</td>\n",
              "      <td>1.02454</td>\n",
              "      <td>1.02548</td>\n",
              "      <td>1.02355</td>\n",
              "      <td>1.02485</td>\n",
              "      <td>5234</td>\n",
              "      <td>8</td>\n",
              "      <td>0</td>\n",
              "      <td>1.024695</td>\n",
              "      <td>0.00028</td>\n",
              "      <td>0.00151</td>\n",
              "      <td>0.000895</td>\n",
              "    </tr>\n",
              "    <tr>\n",
              "      <th>4</th>\n",
              "      <td>4</td>\n",
              "      <td>2022-07-25 17:00:00</td>\n",
              "      <td>1.02485</td>\n",
              "      <td>1.02514</td>\n",
              "      <td>1.02030</td>\n",
              "      <td>1.02181</td>\n",
              "      <td>9031</td>\n",
              "      <td>7</td>\n",
              "      <td>0</td>\n",
              "      <td>1.023330</td>\n",
              "      <td>-0.00304</td>\n",
              "      <td>0.00031</td>\n",
              "      <td>-0.001365</td>\n",
              "    </tr>\n",
              "  </tbody>\n",
              "</table>\n",
              "</div>"
            ],
            "text/plain": [
              "   Unnamed: 0                 time     open     high      low    close  \\\n",
              "0           0  2022-07-25 13:00:00  1.02427  1.02430  1.02145  1.02345   \n",
              "1           1  2022-07-25 14:00:00  1.02345  1.02578  1.02288  1.02299   \n",
              "2           2  2022-07-25 15:00:00  1.02303  1.02476  1.02230  1.02457   \n",
              "3           3  2022-07-25 16:00:00  1.02454  1.02548  1.02355  1.02485   \n",
              "4           4  2022-07-25 17:00:00  1.02485  1.02514  1.02030  1.02181   \n",
              "\n",
              "   tick_volume  spread  real_volume  MeanCloseOpen  Diff_Close  Diff_Open  \\\n",
              "0         3927       8            0       1.023860    -0.00046   -0.00082   \n",
              "1         5344       8            0       1.023220    -0.00046   -0.00082   \n",
              "2         5524       8            0       1.023800     0.00158   -0.00042   \n",
              "3         5234       8            0       1.024695     0.00028    0.00151   \n",
              "4         9031       7            0       1.023330    -0.00304    0.00031   \n",
              "\n",
              "   Diff_MeanCloseOpen  \n",
              "0           -0.000640  \n",
              "1           -0.000640  \n",
              "2            0.000580  \n",
              "3            0.000895  \n",
              "4           -0.001365  "
            ]
          },
          "execution_count": 1,
          "metadata": {},
          "output_type": "execute_result"
        }
      ],
      "source": [
        "import pandas as pd\n",
        "\n",
        "url = \"https://raw.githubusercontent.com/hernansalinas/Curso_aprendizaje_estadistico/main/datasets/Pandas_data_historical_dataEURUSD.csv\"\n",
        "\n",
        "df = pd.read_csv(url)\n",
        "df.head()"
      ]
    },
    {
      "cell_type": "markdown",
      "metadata": {},
      "source": [
        "2. Definir como indice la columna time.\n"
      ]
    },
    {
      "cell_type": "code",
      "execution_count": 2,
      "metadata": {},
      "outputs": [
        {
          "name": "stdout",
          "output_type": "stream",
          "text": [
            "<class 'str'>\n",
            "<class 'pandas._libs.tslibs.timestamps.Timestamp'>\n"
          ]
        }
      ],
      "source": [
        "print(type(df.time[0]))\n",
        "print(type(pd.to_datetime(df.time[0])))"
      ]
    },
    {
      "cell_type": "code",
      "execution_count": 3,
      "metadata": {},
      "outputs": [
        {
          "data": {
            "text/html": [
              "<div>\n",
              "<style scoped>\n",
              "    .dataframe tbody tr th:only-of-type {\n",
              "        vertical-align: middle;\n",
              "    }\n",
              "\n",
              "    .dataframe tbody tr th {\n",
              "        vertical-align: top;\n",
              "    }\n",
              "\n",
              "    .dataframe thead th {\n",
              "        text-align: right;\n",
              "    }\n",
              "</style>\n",
              "<table border=\"1\" class=\"dataframe\">\n",
              "  <thead>\n",
              "    <tr style=\"text-align: right;\">\n",
              "      <th></th>\n",
              "      <th>Unnamed: 0</th>\n",
              "      <th>time</th>\n",
              "      <th>open</th>\n",
              "      <th>high</th>\n",
              "      <th>low</th>\n",
              "      <th>close</th>\n",
              "      <th>tick_volume</th>\n",
              "      <th>spread</th>\n",
              "      <th>real_volume</th>\n",
              "      <th>MeanCloseOpen</th>\n",
              "      <th>Diff_Close</th>\n",
              "      <th>Diff_Open</th>\n",
              "      <th>Diff_MeanCloseOpen</th>\n",
              "    </tr>\n",
              "    <tr>\n",
              "      <th>time</th>\n",
              "      <th></th>\n",
              "      <th></th>\n",
              "      <th></th>\n",
              "      <th></th>\n",
              "      <th></th>\n",
              "      <th></th>\n",
              "      <th></th>\n",
              "      <th></th>\n",
              "      <th></th>\n",
              "      <th></th>\n",
              "      <th></th>\n",
              "      <th></th>\n",
              "      <th></th>\n",
              "    </tr>\n",
              "  </thead>\n",
              "  <tbody>\n",
              "    <tr>\n",
              "      <th>2022-07-25 13:00:00</th>\n",
              "      <td>0</td>\n",
              "      <td>2022-07-25 13:00:00</td>\n",
              "      <td>1.02427</td>\n",
              "      <td>1.0243</td>\n",
              "      <td>1.02145</td>\n",
              "      <td>1.02345</td>\n",
              "      <td>3927</td>\n",
              "      <td>8</td>\n",
              "      <td>0</td>\n",
              "      <td>1.02386</td>\n",
              "      <td>-0.00046</td>\n",
              "      <td>-0.00082</td>\n",
              "      <td>-0.00064</td>\n",
              "    </tr>\n",
              "  </tbody>\n",
              "</table>\n",
              "</div>"
            ],
            "text/plain": [
              "                     Unnamed: 0                 time     open    high  \\\n",
              "time                                                                    \n",
              "2022-07-25 13:00:00           0  2022-07-25 13:00:00  1.02427  1.0243   \n",
              "\n",
              "                         low    close  tick_volume  spread  real_volume  \\\n",
              "time                                                                      \n",
              "2022-07-25 13:00:00  1.02145  1.02345         3927       8            0   \n",
              "\n",
              "                     MeanCloseOpen  Diff_Close  Diff_Open  Diff_MeanCloseOpen  \n",
              "time                                                                           \n",
              "2022-07-25 13:00:00        1.02386    -0.00046   -0.00082            -0.00064  "
            ]
          },
          "execution_count": 3,
          "metadata": {},
          "output_type": "execute_result"
        }
      ],
      "source": [
        "df.index = pd.to_datetime(df.time)\n",
        "df.head(1)"
      ]
    },
    {
      "cell_type": "code",
      "execution_count": 4,
      "metadata": {},
      "outputs": [
        {
          "data": {
            "text/plain": [
              "Int64Index([25, 25, 25, 25, 25, 25, 25, 25, 25, 25,\n",
              "            ...\n",
              "            12, 12, 12, 12, 12, 12, 12, 12, 12, 12],\n",
              "           dtype='int64', name='time', length=5000)"
            ]
          },
          "execution_count": 4,
          "metadata": {},
          "output_type": "execute_result"
        }
      ],
      "source": [
        "df.drop(columns=[\"Unnamed: 0\",\"time\"], inplace=True)\n",
        "df.index.day"
      ]
    },
    {
      "cell_type": "code",
      "execution_count": 5,
      "metadata": {},
      "outputs": [
        {
          "data": {
            "text/html": [
              "<div>\n",
              "<style scoped>\n",
              "    .dataframe tbody tr th:only-of-type {\n",
              "        vertical-align: middle;\n",
              "    }\n",
              "\n",
              "    .dataframe tbody tr th {\n",
              "        vertical-align: top;\n",
              "    }\n",
              "\n",
              "    .dataframe thead th {\n",
              "        text-align: right;\n",
              "    }\n",
              "</style>\n",
              "<table border=\"1\" class=\"dataframe\">\n",
              "  <thead>\n",
              "    <tr style=\"text-align: right;\">\n",
              "      <th></th>\n",
              "      <th>open</th>\n",
              "      <th>high</th>\n",
              "      <th>low</th>\n",
              "      <th>close</th>\n",
              "      <th>tick_volume</th>\n",
              "      <th>spread</th>\n",
              "      <th>real_volume</th>\n",
              "      <th>MeanCloseOpen</th>\n",
              "      <th>Diff_Close</th>\n",
              "      <th>Diff_Open</th>\n",
              "      <th>Diff_MeanCloseOpen</th>\n",
              "    </tr>\n",
              "    <tr>\n",
              "      <th>time</th>\n",
              "      <th></th>\n",
              "      <th></th>\n",
              "      <th></th>\n",
              "      <th></th>\n",
              "      <th></th>\n",
              "      <th></th>\n",
              "      <th></th>\n",
              "      <th></th>\n",
              "      <th></th>\n",
              "      <th></th>\n",
              "      <th></th>\n",
              "    </tr>\n",
              "  </thead>\n",
              "  <tbody>\n",
              "    <tr>\n",
              "      <th>2022-07-25 13:00:00</th>\n",
              "      <td>1.02427</td>\n",
              "      <td>1.02430</td>\n",
              "      <td>1.02145</td>\n",
              "      <td>1.02345</td>\n",
              "      <td>3927</td>\n",
              "      <td>8</td>\n",
              "      <td>0</td>\n",
              "      <td>1.02386</td>\n",
              "      <td>-0.00046</td>\n",
              "      <td>-0.00082</td>\n",
              "      <td>-0.00064</td>\n",
              "    </tr>\n",
              "    <tr>\n",
              "      <th>2022-07-25 14:00:00</th>\n",
              "      <td>1.02345</td>\n",
              "      <td>1.02578</td>\n",
              "      <td>1.02288</td>\n",
              "      <td>1.02299</td>\n",
              "      <td>5344</td>\n",
              "      <td>8</td>\n",
              "      <td>0</td>\n",
              "      <td>1.02322</td>\n",
              "      <td>-0.00046</td>\n",
              "      <td>-0.00082</td>\n",
              "      <td>-0.00064</td>\n",
              "    </tr>\n",
              "  </tbody>\n",
              "</table>\n",
              "</div>"
            ],
            "text/plain": [
              "                        open     high      low    close  tick_volume  spread  \\\n",
              "time                                                                           \n",
              "2022-07-25 13:00:00  1.02427  1.02430  1.02145  1.02345         3927       8   \n",
              "2022-07-25 14:00:00  1.02345  1.02578  1.02288  1.02299         5344       8   \n",
              "\n",
              "                     real_volume  MeanCloseOpen  Diff_Close  Diff_Open  \\\n",
              "time                                                                     \n",
              "2022-07-25 13:00:00            0        1.02386    -0.00046   -0.00082   \n",
              "2022-07-25 14:00:00            0        1.02322    -0.00046   -0.00082   \n",
              "\n",
              "                     Diff_MeanCloseOpen  \n",
              "time                                     \n",
              "2022-07-25 13:00:00            -0.00064  \n",
              "2022-07-25 14:00:00            -0.00064  "
            ]
          },
          "execution_count": 5,
          "metadata": {},
          "output_type": "execute_result"
        }
      ],
      "source": [
        "df.head(2)"
      ]
    },
    {
      "cell_type": "markdown",
      "metadata": {},
      "source": [
        "3. Obtenga información del data frame."
      ]
    },
    {
      "cell_type": "code",
      "execution_count": 6,
      "metadata": {},
      "outputs": [
        {
          "name": "stdout",
          "output_type": "stream",
          "text": [
            "<class 'pandas.core.frame.DataFrame'>\n",
            "DatetimeIndex: 5000 entries, 2022-07-25 13:00:00 to 2023-05-12 23:00:00\n",
            "Data columns (total 11 columns):\n",
            " #   Column              Non-Null Count  Dtype  \n",
            "---  ------              --------------  -----  \n",
            " 0   open                5000 non-null   float64\n",
            " 1   high                5000 non-null   float64\n",
            " 2   low                 5000 non-null   float64\n",
            " 3   close               5000 non-null   float64\n",
            " 4   tick_volume         5000 non-null   int64  \n",
            " 5   spread              5000 non-null   int64  \n",
            " 6   real_volume         5000 non-null   int64  \n",
            " 7   MeanCloseOpen       5000 non-null   float64\n",
            " 8   Diff_Close          5000 non-null   float64\n",
            " 9   Diff_Open           5000 non-null   float64\n",
            " 10  Diff_MeanCloseOpen  5000 non-null   float64\n",
            "dtypes: float64(8), int64(3)\n",
            "memory usage: 468.8 KB\n"
          ]
        }
      ],
      "source": [
        "df.info()"
      ]
    },
    {
      "cell_type": "markdown",
      "metadata": {},
      "source": [
        "**Segun esto no hay valores NULL**"
      ]
    },
    {
      "cell_type": "markdown",
      "metadata": {},
      "source": [
        "4. Determine si hay null, nan en el data frame."
      ]
    },
    {
      "cell_type": "code",
      "execution_count": 7,
      "metadata": {},
      "outputs": [
        {
          "name": "stdout",
          "output_type": "stream",
          "text": [
            "El número de NULL en cada columna es:\n",
            "open                  0\n",
            "high                  0\n",
            "low                   0\n",
            "close                 0\n",
            "tick_volume           0\n",
            "spread                0\n",
            "real_volume           0\n",
            "MeanCloseOpen         0\n",
            "Diff_Close            0\n",
            "Diff_Open             0\n",
            "Diff_MeanCloseOpen    0\n",
            "dtype: int64\n",
            "El número de NaN en cada columna es:\n",
            "open                  0\n",
            "high                  0\n",
            "low                   0\n",
            "close                 0\n",
            "tick_volume           0\n",
            "spread                0\n",
            "real_volume           0\n",
            "MeanCloseOpen         0\n",
            "Diff_Close            0\n",
            "Diff_Open             0\n",
            "Diff_MeanCloseOpen    0\n",
            "dtype: int64\n"
          ]
        }
      ],
      "source": [
        "print(\"El número de NULL en cada columna es:\")\n",
        "print(df.isnull().sum())\n",
        "\n",
        "print(\"El número de NaN en cada columna es:\")\n",
        "print(df.isna().sum())"
      ]
    },
    {
      "cell_type": "markdown",
      "metadata": {},
      "source": [
        "5. Emplea la notacion Pascal Case y trabaja solo con la columa del precio de cierre del eur/usd."
      ]
    },
    {
      "cell_type": "code",
      "execution_count": 11,
      "metadata": {},
      "outputs": [
        {
          "data": {
            "text/plain": [
              "Index(['open', 'high', 'low', 'close', 'tick_volume', 'spread', 'real_volume',\n",
              "       'MeanCloseOpen', 'Diff_Close', 'Diff_Open', 'Diff_MeanCloseOpen'],\n",
              "      dtype='object')"
            ]
          },
          "execution_count": 11,
          "metadata": {},
          "output_type": "execute_result"
        }
      ],
      "source": [
        "df_Close = df\n",
        "df_Close.columns"
      ]
    },
    {
      "cell_type": "code",
      "execution_count": 14,
      "metadata": {},
      "outputs": [
        {
          "data": {
            "text/html": [
              "<div>\n",
              "<style scoped>\n",
              "    .dataframe tbody tr th:only-of-type {\n",
              "        vertical-align: middle;\n",
              "    }\n",
              "\n",
              "    .dataframe tbody tr th {\n",
              "        vertical-align: top;\n",
              "    }\n",
              "\n",
              "    .dataframe thead th {\n",
              "        text-align: right;\n",
              "    }\n",
              "</style>\n",
              "<table border=\"1\" class=\"dataframe\">\n",
              "  <thead>\n",
              "    <tr style=\"text-align: right;\">\n",
              "      <th></th>\n",
              "      <th>Close</th>\n",
              "    </tr>\n",
              "    <tr>\n",
              "      <th>time</th>\n",
              "      <th></th>\n",
              "    </tr>\n",
              "  </thead>\n",
              "  <tbody>\n",
              "    <tr>\n",
              "      <th>2022-07-25 13:00:00</th>\n",
              "      <td>1.02345</td>\n",
              "    </tr>\n",
              "    <tr>\n",
              "      <th>2022-07-25 14:00:00</th>\n",
              "      <td>1.02299</td>\n",
              "    </tr>\n",
              "  </tbody>\n",
              "</table>\n",
              "</div>"
            ],
            "text/plain": [
              "                       Close\n",
              "time                        \n",
              "2022-07-25 13:00:00  1.02345\n",
              "2022-07-25 14:00:00  1.02299"
            ]
          },
          "execution_count": 14,
          "metadata": {},
          "output_type": "execute_result"
        }
      ],
      "source": [
        "df_Close = df_Close[[\"close\"]]\n",
        "df_Close.columns = [\"Close\"]\n",
        "df_Close.head(2)"
      ]
    },
    {
      "cell_type": "code",
      "execution_count": 16,
      "metadata": {},
      "outputs": [
        {
          "data": {
            "image/png": "[encoded data removed]",
            "text/plain": [
              "<Figure size 720x432 with 1 Axes>"
            ]
          },
          "metadata": {
            "needs_background": "light"
          },
          "output_type": "display_data"
        }
      ],
      "source": [
        "import matplotlib.pyplot as plt\n",
        "\n",
        "plt.figure(figsize=(10,6))\n",
        "plt.plot(df_Close.index, df_Close.Close, label=\"Close EUR/USD\")\n",
        "plt.title(\"Close EUR/USD\")\n",
        "plt.xlabel(\"Date\")\n",
        "plt.ylabel(\"Close Price\")\n",
        "plt.grid()"
      ]
    },
    {
      "cell_type": "markdown",
      "metadata": {},
      "source": [
        "6. Ahora vamos a determinar cual es la mejor distribución estadística que se ajusta a la diferencia del precio de cierre cada hora, para ello realizamos lo siguiente:\n",
        "\n",
        "- Determine la diferencia de precio entre horas, agregue una nueva columna llamada DiffPrice, en este punto tu dataframe debe tener solo dos columnas Close, DiffPrice y el indice debe ser el tiempo."
      ]
    },
    {
      "cell_type": "code",
      "execution_count": null,
      "metadata": {},
      "outputs": [],
      "source": []
    },
    {
      "cell_type": "markdown",
      "metadata": {},
      "source": [
        "- Para la nueva columna construya un histograma de los datos."
      ]
    },
    {
      "cell_type": "markdown",
      "metadata": {},
      "source": [
        "- Determine la mejor distribucion estadística que se ajusta al histograma anterior, para ello puede emplear lo siguente:"
      ]
    },
    {
      "cell_type": "code",
      "execution_count": null,
      "metadata": {},
      "outputs": [],
      "source": [
        "from fitter import Fitter, get_common_distributions, get_distributions\n",
        "\n",
        "f = Fitter(data,\n",
        "           distributions=['gamma',\n",
        "                          'lognorm',\n",
        "                          \"beta\",\n",
        "                          \"burr\",\n",
        "                          \"norm\"])\n",
        "f.fit()\n",
        "f.summary()\n",
        "#Indentificamos la mejor distribucion con el error cuadratico medio\n",
        "f.get_best(method = 'sumsquare_error')\n",
        "#Indentificamos parametros de la distrubicion beta\n",
        "f.fitted_param[\"beta\"]\n"
      ]
    },
    {
      "cell_type": "markdown",
      "metadata": {},
      "source": [
        "Con el metodo get_distributions(), podemos ver todas las distribuciones estadisticas de la libreria. Ajusta a la mejor.  Puede consultar [esta](https://medium.com/the-researchers-guide/finding-the-best-distribution-that-fits-your-data-using-pythons-fitter-library-319a5a0972e9)  página si desea ver un ejemplo."
      ]
    },
    {
      "cell_type": "markdown",
      "metadata": {},
      "source": [
        "\n",
        "7. Para el data frame, seleccionemos solo los datos del 2023."
      ]
    },
    {
      "cell_type": "markdown",
      "metadata": {},
      "source": [
        "8. El comando groupby permite agrupar los datos con la periodicidad deseada: 1 dias, 2 dias, 1 mes etc. Determina el promedio con una periodicidad de 15 dias, con periodidicidad de 1 semana, y una periodicidad de 1 mes\n"
      ]
    },
    {
      "cell_type": "code",
      "execution_count": null,
      "metadata": {},
      "outputs": [],
      "source": [
        "df.groupby(pd.Grouper(key='time', freq='15D')).mean()"
      ]
    },
    {
      "cell_type": "markdown",
      "metadata": {},
      "source": [
        "9. Para los datos asociados a los meses de 2023, construya un histograma para cada mes.  Para ello puedo emplear el metodo groupby. Notetese que si no  realiza una operación después de aplicar el metodo grouby, podrias iterar sobre dicho objeto, por ejemplo:"
      ]
    },
    {
      "cell_type": "code",
      "execution_count": null,
      "metadata": {},
      "outputs": [],
      "source": [
        "q=df.groupby(pd.Grouper(key='time', freq='15D'))\n",
        "\n",
        "for name, group in q:\n",
        "  print(name, group)"
      ]
    },
    {
      "cell_type": "markdown",
      "metadata": {
        "id": "dzhBd58dWJXq"
      },
      "source": [
        "## Análisis de datos con pandas.\n",
        "\n",
        "Para el siguiente [dataset](https://archive.ics.uci.edu/ml/datasets/Breast+Cancer+Wisconsin+%28Diagnostic%29) realizar lo siguiente:\n",
        "\n",
        "\n",
        "1. Leer los datos desde una página web.\n",
        "\n",
        "2. Renombrar las columnas en formato PascalCase.\n",
        "\n",
        "3. Utilizar los métodos `head()`, `tail()`, `describe()` e `info()` para obtener información sobre el `DataFrame`.\n",
        "\n",
        "4. Contabilizar la cantidad de valores nulos (`null` o `NaN`) en el `DataFrame`.\n",
        "   Si se encuentran valores nulos, ¿qué estrategia propondrías para reemplazarlos?\n",
        "\n",
        "5. Identificar los valores únicos en la columna `target` que representan las etiquetas B y M (Benigno y Maligno, respectivamente).\n",
        "   Utiliza el método `unique()` para mostrar estos valores.\n",
        "\n",
        "6. Realizar un conteo de los casos etiquetados como B y M utilizando la librería `seaborn` y el método `countplot()`:\n",
        "\n",
        "```python\n",
        "import seaborn as sns\n",
        "sns.countplot?\n",
        "```\n",
        "\n",
        "7. Agregar una nueva columna llamada `DiagnosisNumeric` donde se asigna el valor 0 a la etiqueta B (Benigno) y el valor 1 a la etiqueta M (Maligno).\n",
        "\n",
        "\n",
        "8. Normalizar cada columna respecto a su media y desviación estándar utilizando la fórmula:  \n",
        "   `(x - mean(x)) / std(x)`\n",
        "\n",
        "9. Agrupar características similares y calcular su promedio.\n",
        "   Para las siguientes características:\n",
        "\n",
        "```python\n",
        "['RadiusMean', 'TextureMean', 'PerimeterMean', 'AreaMean', 'SmoothnessMean', 'CompactnessMean', 'ConcavityMean', 'ConcavePointsMean', \"SymmetryMean\", \"FractalDimensionMean\"]\n",
        "```\n",
        "\n",
        "Usa expresiones regulares para identificar patrones comunes, como `radius1`, `radius2`,`radius3`, etc., y calcular los promedios. Por ejemplo:\n",
        "\n",
        "```python\n",
        "re.match(r'^[a-zA-Z_]+', \"holamundo12341\").group(0)\n",
        "```\n",
        "\n",
        "También puedes utilizar el método `startswith()` para buscar estos patrones en los nombres de las columnas.\n",
        "\n",
        "\n",
        "10. Crear un gráfico donde se muestre el histograma de la columna `RadiusMean` separado por las etiquetas B y M, utilizando colores diferentes (naranja y azul, respectivamente) para cada diagnóstico.\n",
        "\n",
        "11. Generar gráficos de violín para múltiples características.\n",
        "   Para las columnas:\n",
        "\n",
        "   - `RadiusMean`\n",
        "   - `TextureMean`\n",
        "   - `PerimeterMean`\n",
        "   - `AreaMean`\n",
        "   - `SmoothnessMean`\n",
        "   - `CompactnessMean`\n",
        "   - `ConcavityMean`\n",
        "   - `ConcavePointsMean`\n",
        "   - `Symmetry3`\n",
        "   - `FractalDimension3`\n",
        "\n",
        "   Realiza un gráfico múltiple tipo violín, como en el siguiente ejemplo:\n",
        "\n",
        "```python\n",
        "data = pd.melt(df.iloc[:, 0:10], id_vars=\"Diagnosis\", var_name=\"features\", value_name=\"value\")\n",
        "sns.violinplot(x=\"features\", y=\"value\", hue=\"Diagnosis\", data=data, split=True, inner=\"quart\")\n",
        "plt.xticks(rotation=45)\n",
        "```\n",
        "\n",
        "\n",
        "12.  Determinar y eliminar los valores atípicos (`outliers`) en la columna `RadiusMean`.\n",
        "\n",
        "Para identificarlos, construye un gráfico tipo `boxplot`:\n",
        "\n",
        "```python\n",
        "df.boxplot(column=\"RadiusMean\", by='Diagnosis', sym='k.', figsize=(18,6))\n",
        "```\n",
        "\n",
        "Usa el rango intercuartílico (IQR) para definir los outliers. Los valores fuera del rango [Q1 - 1.5 * IQR, Q3 + 1.5 * IQR] se consideran outliers. Ejemplo de cómo eliminar estos valores:\n",
        "\n",
        "```python\n",
        "Q1 = df['edad'].quantile(0.25)\n",
        "Q3 = df['edad'].quantile(0.75)\n",
        "IQR = Q3 - Q1\n",
        "df = df[~((df['edad'] < (Q1 - 1.5 * IQR)) | (df['edad'] > (Q3 + 1.5 * IQR)))]\n",
        "```\n",
        "\n",
        "Otra alternativa es utilizar el puntaje Z para detectar `outliers`:\n",
        "\n",
        "```python\n",
        "df = df[(np.abs(stats.zscore(df['edad'])) < 3)]\n",
        "```\n",
        "\n",
        "\n",
        "\n",
        "13. Encontrar la matrix de correlación, emplear el metodo corr(), dentro de seaborn buscar el metodo heatmap() para realizar un grafico de la matrix de correlación.\n",
        "\n",
        "14. ¿Que otro tipo de gráficos pueden ser realizados para entender mejor los datos?\n",
        "\n"
      ]
    },
    {
      "cell_type": "markdown",
      "metadata": {
        "id": "dg5T-MejYZf-"
      },
      "source": []
    },
    {
      "cell_type": "markdown",
      "metadata": {
        "id": "nyhIUpJmfXQr"
      },
      "source": [
        "Hint:\n",
        "\n",
        "\n",
        "```python\n",
        "df['time'] =  pd.to_datetime(df.time)\n",
        "df.set_index(\"time\", inplace=True)\n",
        "df = df.drop(columns = [\"Unnamed: 0\"])\n",
        "df[\"DiffClose\"] = df.close.diff()\n",
        "df2 = df[[\"DiffClose\", \"close\"]][1:]\n",
        "df2.DiffClose.hist(bins=1000)\n",
        "\n",
        "\n",
        "!pip install fitter\n",
        "\n",
        "\n",
        "from fitter import Fitter, get_common_distributions, get_distributions\n",
        "\n",
        "f = Fitter(df2.DiffClose,\n",
        "           distributions=['gamma',\n",
        "                          'lognorm',\n",
        "                          \"beta\",\n",
        "                          \"burr\",\n",
        "                          \"norm\"])\n",
        "f.fit()a\n",
        "f.summary()\n",
        "#Indentificamos la mejor distribucion con el error cuadratico medio\n",
        "f.get_best(method = 'sumsquare_error')\n",
        "#Indentificamos parametros de la distrubicion beta\n",
        "f.fitted_param[\"beta\"]\n",
        "\n",
        "\n",
        "\n",
        "\n",
        "f = Fitter(df2.DiffClose,\n",
        "           distributions=['gamma',\n",
        "                          'genhyperbolic',\n",
        "                          \"beta\",\n",
        "                          \"burr\",\n",
        "                          \"norm\"])\n",
        "f.fit()\n",
        "f.summary()\n",
        "#Indentificamos la mejor distribucion con el error cuadratico medio\n",
        "f.get_best(method = 'sumsquare_error')\n",
        "#Indentificamos parametros de la distrubicion beta\n",
        "f.fitted_param[\"beta\"]\n",
        "\n",
        "\n",
        "\n",
        "df2.groupby(pd.Grouper(freq='15D')).mean()\n",
        "```"
      ]
    },
    {
      "cell_type": "markdown",
      "metadata": {
        "id": "jQpe0uDs1uMW"
      },
      "source": []
    }
  ],
  "metadata": {
    "colab": {
      "provenance": []
    },
    "kernelspec": {
      "display_name": "Python 3 (ipykernel)",
      "language": "python",
      "name": "python3"
    },
    "language_info": {
      "codemirror_mode": {
        "name": "ipython",
        "version": 3
      },
      "file_extension": ".py",
      "mimetype": "text/x-python",
      "name": "python",
      "nbconvert_exporter": "python",
      "pygments_lexer": "ipython3",
      "version": "3.9.7"
    }
  },
  "nbformat": 4,
  "nbformat_minor": 0
}
